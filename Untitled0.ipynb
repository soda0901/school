{
  "nbformat": 4,
  "nbformat_minor": 0,
  "metadata": {
    "colab": {
      "provenance": [],
      "authorship_tag": "ABX9TyOrlFAmmbPzqrgBUtdofIZL",
      "include_colab_link": true
    },
    "kernelspec": {
      "name": "python3",
      "display_name": "Python 3"
    },
    "language_info": {
      "name": "python"
    }
  },
  "cells": [
    {
      "cell_type": "markdown",
      "metadata": {
        "id": "view-in-github",
        "colab_type": "text"
      },
      "source": [
        "<a href=\"https://colab.research.google.com/github/soda0901/school/blob/main/Untitled0.ipynb\" target=\"_parent\"><img src=\"https://colab.research.google.com/assets/colab-badge.svg\" alt=\"Open In Colab\"/></a>"
      ]
    },
    {
      "cell_type": "code",
      "execution_count": 5,
      "metadata": {
        "colab": {
          "base_uri": "https://localhost:8080/"
        },
        "id": "K9TxmAVcLfBp",
        "outputId": "b5982171-917d-49fe-dbc3-91a7bad7aba8"
      },
      "outputs": [
        {
          "output_type": "stream",
          "name": "stdout",
          "text": [
            "Requirement already satisfied: openpyxl in /usr/local/lib/python3.11/dist-packages (3.1.5)\n",
            "Requirement already satisfied: et-xmlfile in /usr/local/lib/python3.11/dist-packages (from openpyxl) (2.0.0)\n",
            "   구분별(1)  구분별(2)        2023      2023.1  2023.2     2023.3     2023.4  \\\n",
            "0  구분별(1)  구분별(2)  매우 불만족 (%)  약간 불만족 (%)  보통 (%)  약간 만족 (%)  매우 만족 (%)   \n",
            "1     서울시      소계         0.3         3.8    48.8       43.2        3.8   \n",
            "2      성별      남성         0.3         3.4    47.7       43.8        4.7   \n",
            "3      성별      여성         0.3         4.5    50.3       42.3        2.6   \n",
            "4     연령별     10대           -        39.5    23.4       37.1          -   \n",
            "\n",
            "       2023.5  \n",
            "0  10점 평균 (점)  \n",
            "1        6.16  \n",
            "2        6.23  \n",
            "3        6.06  \n",
            "4        4.94  \n"
          ]
        },
        {
          "output_type": "stream",
          "name": "stderr",
          "text": [
            "/usr/local/lib/python3.11/dist-packages/openpyxl/styles/stylesheet.py:237: UserWarning: Workbook contains no default style, apply openpyxl's default\n",
            "  warn(\"Workbook contains no default style, apply openpyxl's default\")\n"
          ]
        }
      ],
      "source": [
        "# prompt: /content/job_confidence.xlsx 를 읽어주세요\n",
        "\n",
        "import pandas as pd\n",
        "\n",
        "# Install openpyxl if not already installed\n",
        "!pip install openpyxl\n",
        "\n",
        "try:\n",
        "  df = pd.read_excel('/content/job_confidence.xlsx', engine='openpyxl')\n",
        "  print(df.head()) # Display the first few rows of the DataFrame\n",
        "except FileNotFoundError:\n",
        "  print(\"Error: File not found. Please make sure the file exists at the specified path.\")\n",
        "except Exception as e:\n",
        "  print(f\"An error occurred: {e}\")\n"
      ]
    },
    {
      "cell_type": "code",
      "source": [
        "# prompt: 지역 소분류별로 읽어주세요\n",
        "\n",
        "import pandas as pd\n",
        "\n",
        "# Install openpyxl if not already installed\n",
        "!pip install openpyxl\n",
        "\n",
        "try:\n",
        "  df = pd.read_excel('/content/job_confidence.xlsx', engine='openpyxl')\n",
        "\n",
        "  # Assuming '지역 소분류' is the column name you want to group by\n",
        "  for region, group_data in df.groupby('지역 소분류'):\n",
        "    print(f\"\\n지역 소분류: {region}\")\n",
        "    print(group_data)\n",
        "except FileNotFoundError:\n",
        "  print(\"Error: File not found. Please make sure the file exists at the specified path.\")\n",
        "except KeyError:\n",
        "    print(\"Error: '지역 소분류' column not found in the Excel file.\")\n",
        "except Exception as e:\n",
        "  print(f\"An error occurred: {e}\")\n"
      ],
      "metadata": {
        "colab": {
          "base_uri": "https://localhost:8080/"
        },
        "id": "73BTac4OQYfx",
        "outputId": "c7d054f9-83d0-42ef-bc27-47f11235ddef"
      },
      "execution_count": 6,
      "outputs": [
        {
          "output_type": "stream",
          "name": "stdout",
          "text": [
            "Requirement already satisfied: openpyxl in /usr/local/lib/python3.11/dist-packages (3.1.5)\n",
            "Requirement already satisfied: et-xmlfile in /usr/local/lib/python3.11/dist-packages (from openpyxl) (2.0.0)\n",
            "Error: '지역 소분류' column not found in the Excel file.\n"
          ]
        },
        {
          "output_type": "stream",
          "name": "stderr",
          "text": [
            "/usr/local/lib/python3.11/dist-packages/openpyxl/styles/stylesheet.py:237: UserWarning: Workbook contains no default style, apply openpyxl's default\n",
            "  warn(\"Workbook contains no default style, apply openpyxl's default\")\n"
          ]
        }
      ]
    }
  ]
}